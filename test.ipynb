{
 "cells": [
  {
   "cell_type": "code",
   "execution_count": 2,
   "metadata": {},
   "outputs": [
    {
     "name": "stdout",
     "output_type": "stream",
     "text": [
      "test\n"
     ]
    }
   ],
   "source": [
    "print('test')"
   ]
  },
  {
   "cell_type": "code",
   "execution_count": 6,
   "metadata": {},
   "outputs": [
    {
     "name": "stdout",
     "output_type": "stream",
     "text": [
      "0, 1\n",
      "1, 2\n",
      "2, 4\n",
      "3, 8\n",
      "4, 16\n",
      "5, 32\n",
      "6, 64\n",
      "7, 128\n",
      "8, 256\n",
      "9, 512\n",
      "10, 1024\n",
      "11, 2048\n",
      "12, 4096\n",
      "13, 8192\n",
      "14, 16384\n",
      "15, 32768\n",
      "16, 65536\n",
      "17, 131072\n",
      "18, 262144\n",
      "19, 524288\n",
      "20, 1048576\n",
      "21, 2097152\n",
      "22, 4194304\n",
      "23, 8388608\n",
      "24, 16777216\n",
      "25, 33554432\n",
      "26, 67108864\n",
      "27, 134217728\n",
      "28, 268435456\n",
      "29, 536870912\n",
      "30, 1073741824\n"
     ]
    }
   ],
   "source": [
    "for i in range(31):\n",
    "    print(str(i)+', '+str(2**i))"
   ]
  }
 ],
 "metadata": {
  "kernelspec": {
   "display_name": "Python 3.10.4 ('.venv': venv)",
   "language": "python",
   "name": "python3"
  },
  "language_info": {
   "codemirror_mode": {
    "name": "ipython",
    "version": 3
   },
   "file_extension": ".py",
   "mimetype": "text/x-python",
   "name": "python",
   "nbconvert_exporter": "python",
   "pygments_lexer": "ipython3",
   "version": "3.10.4"
  },
  "orig_nbformat": 4,
  "vscode": {
   "interpreter": {
    "hash": "d1fa08e0666f70e7852cca0c263be35982dea2239e6789084e64527cbf8bec4b"
   }
  }
 },
 "nbformat": 4,
 "nbformat_minor": 2
}
